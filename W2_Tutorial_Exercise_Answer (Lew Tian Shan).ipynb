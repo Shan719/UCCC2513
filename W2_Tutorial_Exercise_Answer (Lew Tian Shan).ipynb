{
 "cells": [
  {
   "cell_type": "markdown",
   "id": "1c202ca9-dd43-4b05-93a8-15d9c8b3d44b",
   "metadata": {},
   "source": [
    "# W2_Tutorial_Exercise_Answer (Lew Tian Shan)"
   ]
  },
  {
   "cell_type": "markdown",
   "id": "7e63de67-b504-483c-b50f-666b561b6125",
   "metadata": {},
   "source": [
    "## Exercises\n",
    "1. Find the range of values for each of the following data types:\n",
    "    * `uint8`\n",
    "    * `int8`\n",
    "    * `uint32`\n",
    "    * `int32`"
   ]
  },
  {
   "cell_type": "code",
   "execution_count": 4,
   "id": "1b5b2d13-5543-4ab3-9e76-49a5263c1c2e",
   "metadata": {},
   "outputs": [
    {
     "name": "stdout",
     "output_type": "stream",
     "text": [
      "range of value of uint8: 0 to 255\n",
      "range of value of int8: -128 to 127\n",
      "range of value of uint32: 0 to 4294967295\n",
      "range of value of int32: -2147483648 to 2147483647\n"
     ]
    }
   ],
   "source": [
    "# Question 1\n",
    "import numpy as np\n",
    "\n",
    "#  uint8 \n",
    "print(f\"range of value of uint8: {np.iinfo(np.uint8).min} to {np.iinfo(np.uint8).max}\")\n",
    "\n",
    "# int8\n",
    "print(f\"range of value of int8: {np.iinfo(np.int8).min} to {np.iinfo(np.int8).max}\")\n",
    "\n",
    "# uint32\n",
    "print(f\"range of value of uint32: {np.iinfo(np.uint32).min} to {np.iinfo(np.uint32).max}\")\n",
    "\n",
    "# int32\n",
    "print(f\"range of value of int32: {np.iinfo(np.int32).min} to {np.iinfo(np.int32).max}\")"
   ]
  },
  {
   "cell_type": "markdown",
   "id": "788fabec-94d7-4d78-9f07-bdb7ff655c07",
   "metadata": {},
   "source": [
    "2. Try to write a simple custom function to determine whether a given integer is odd or even number."
   ]
  },
  {
   "cell_type": "code",
   "execution_count": 8,
   "id": "7edaa22f-59bd-438a-bead-34e710624065",
   "metadata": {},
   "outputs": [],
   "source": [
    "# Question 2\n",
    "\n",
    "def ODD_OR_EVEN(number):\n",
    "    if number % 2 == 0:\n",
    "        return \"even\"\n",
    "    else:\n",
    "        return \"odd\""
   ]
  },
  {
   "cell_type": "code",
   "execution_count": 10,
   "id": "6199e6e0-1638-4b5c-aced-4e231c24e71f",
   "metadata": {},
   "outputs": [
    {
     "name": "stdout",
     "output_type": "stream",
     "text": [
      "odd\n",
      "even\n"
     ]
    }
   ],
   "source": [
    "print(ODD_OR_EVEN(1))  \n",
    "print(ODD_OR_EVEN(2))  "
   ]
  },
  {
   "cell_type": "markdown",
   "id": "cb5e8937-aae1-4a5a-9d94-a377aaaf24a6",
   "metadata": {},
   "source": [
    "3. Write a simple example code to show that Numpy is more efficient in numerical computation of large arrays of data than equivalent Python list."
   ]
  },
  {
   "cell_type": "code",
   "execution_count": 75,
   "id": "5294767a-52b9-46ae-aab5-2e250a3f8a83",
   "metadata": {},
   "outputs": [
    {
     "name": "stdout",
     "output_type": "stream",
     "text": [
      "NumPy: 0.010682s, Python list: 0.093017s\n"
     ]
    }
   ],
   "source": [
    "# Question 3\n",
    "import numpy as np\n",
    "import time\n",
    "\n",
    "size = 10**6\n",
    "\n",
    "np_array1, np_array2 = np.random.rand(size), np.random.rand(size)\n",
    "py_list1, py_list2 = list(np_array1), list(np_array2)\n",
    "\n",
    "start = time.time()\n",
    "_ = np_array1 + np_array2\n",
    "np_time = time.time() - start\n",
    "\n",
    "start = time.time()\n",
    "_ = [py_list1[i] + py_list2[i] for i in range(size)]\n",
    "py_time = time.time() - start\n",
    "\n",
    "print(f\"NumPy: {np_time:.6f}s, Python list: {py_time:.6f}s\")"
   ]
  },
  {
   "cell_type": "markdown",
   "id": "1c435776-c198-4390-8b9c-eae1bf48d893",
   "metadata": {},
   "source": [
    "4. Run the following codes:\n",
    "```python\n",
    "    # create a 1D array\n",
    "    my_arr = np.arange(10)\n",
    "    print(\"Initial my_arr: \", my_arr)\n",
    "    arr_slice = my_arr\n",
    "    print(\"Initial arr_slice: \", arr_slice)\n",
    "\n",
    "    # change the first element of arr_slice\n",
    "    arr_slice[0] = 55\n",
    "\n",
    "    print(\"my_arr: \", my_arr)\n",
    "    print(\"arr_slice: \", arr_slice)\n",
    "```\n",
    "\n",
    "What do you notice? Propose a way to reassign `arr_slice` with new value **without modifying** `my_arr`."
   ]
  },
  {
   "cell_type": "code",
   "execution_count": 22,
   "id": "076d519c-7d8d-45d5-99c6-a30b90085ee3",
   "metadata": {},
   "outputs": [
    {
     "name": "stdout",
     "output_type": "stream",
     "text": [
      "Initial my_arr:  [0 1 2 3 4 5 6 7 8 9]\n",
      "Initial arr_slice:  [0 1 2 3 4 5 6 7 8 9]\n",
      "my_arr:  [0 1 2 3 4 5 6 7 8 9]\n",
      "arr_slice:  [55  1  2  3  4  5  6  7  8  9]\n"
     ]
    }
   ],
   "source": [
    "# Question 4\n",
    "\n",
    "import numpy as np\n",
    "\n",
    "# Create a 1D array\n",
    "my_arr = np.arange(10)\n",
    "print(\"Initial my_arr: \", my_arr)\n",
    "arr_slice = my_arr.copy()\n",
    "print(\"Initial arr_slice: \", arr_slice)\n",
    "\n",
    "# Change the first element of arr_slice\n",
    "arr_slice[0] = 55\n",
    "\n",
    "print(\"my_arr: \", my_arr)\n",
    "print(\"arr_slice: \", arr_slice)"
   ]
  },
  {
   "cell_type": "markdown",
   "id": "6ff96921-f430-4f05-b0ba-6a2ba7583215",
   "metadata": {},
   "source": [
    "5. Create an image as shown as the following with the help of Numpy and matplotlib modules. You can arbitrarily set the dimension of the image and white circular spot at the middle.\n",
    "\n",
    "![image.png](attachment:5d4026b2-6b16-4515-8e03-3065096fa0e8.png)"
   ]
  },
  {
   "cell_type": "code",
   "execution_count": 76,
   "id": "42390627-084d-458f-aaa3-b509115a47d2",
   "metadata": {},
   "outputs": [
    {
     "data": {
      "image/png": "[encoded data removed]",
      "text/plain": [
       "<Figure size 640x480 with 1 Axes>"
      ]
     },
     "metadata": {},
     "output_type": "display_data"
    }
   ],
   "source": [
    "# Question 5\n",
    "import numpy as np\n",
    "import matplotlib.pyplot as plt\n",
    "\n",
    "image = np.zeros((200, 200), dtype=np.uint8)\n",
    "\n",
    "(height, width) = image.shape[:2]\n",
    "xaxis, yaxis = int(width // 2), int(height // 2)\n",
    "radius = 25\n",
    "\n",
    "distance = np.fromfunction(lambda x, y: np.sqrt((xaxis - x)**2 + (yaxis - y)**2), (200, 200))\n",
    "\n",
    "image = np.where(distance <= radius, 255, image)\n",
    "\n",
    "plt.imshow(image, cmap=plt.cm.gray)\n",
    "plt.xticks([]), plt.yticks([])\n",
    "plt.show()"
   ]
  }
 ],
 "metadata": {
  "kernelspec": {
   "display_name": "Python 3 (ipykernel)",
   "language": "python",
   "name": "python3"
  },
  "language_info": {
   "codemirror_mode": {
    "name": "ipython",
    "version": 3
   },
   "file_extension": ".py",
   "mimetype": "text/x-python",
   "name": "python",
   "nbconvert_exporter": "python",
   "pygments_lexer": "ipython3",
   "version": "3.11.5"
  }
 },
 "nbformat": 4,
 "nbformat_minor": 5
}
